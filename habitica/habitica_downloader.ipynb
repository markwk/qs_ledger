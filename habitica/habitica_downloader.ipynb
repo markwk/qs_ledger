{
 "cells": [
  {
   "cell_type": "markdown",
   "metadata": {},
   "source": [
    "# Habitica Habits and Tasks Downloader"
   ]
  },
  {
   "cell_type": "markdown",
   "metadata": {},
   "source": [
    "Docs: https://habitica.com/apidoc/"
   ]
  },
  {
   "cell_type": "markdown",
   "metadata": {},
   "source": [
    "--------"
   ]
  },
  {
   "cell_type": "markdown",
   "metadata": {},
   "source": [
    "## Dates Configuration"
   ]
  },
  {
   "cell_type": "code",
   "execution_count": 1,
   "metadata": {},
   "outputs": [],
   "source": [
    "# today info\n",
    "import datetime\n",
    "today = f\"{datetime.datetime.now():%Y-%m-%d}\""
   ]
  },
  {
   "cell_type": "markdown",
   "metadata": {},
   "source": [
    "------"
   ]
  },
  {
   "cell_type": "markdown",
   "metadata": {},
   "source": [
    "## Setup and Installation"
   ]
  },
  {
   "cell_type": "markdown",
   "metadata": {},
   "source": [
    "* Go to [Habitica Settings > API](https://habitica.com/user/settings/api) and copy your API Token and User ID \n",
    "* Copy credentials-sample.json to create credentials.json and add your Habitica API Key and User Id.\n",
    "* This project depends on no additional code besides standard python libraries and Pandas. "
   ]
  },
  {
   "cell_type": "markdown",
   "metadata": {},
   "source": [
    "-----"
   ]
  },
  {
   "cell_type": "markdown",
   "metadata": {},
   "source": [
    "## Dependencies"
   ]
  },
  {
   "cell_type": "code",
   "execution_count": 2,
   "metadata": {
    "collapsed": true
   },
   "outputs": [],
   "source": [
    "import requests\n",
    "import os\n",
    "import numpy as np\n",
    "import pandas as pd"
   ]
  },
  {
   "cell_type": "markdown",
   "metadata": {},
   "source": [
    "----"
   ]
  },
  {
   "cell_type": "markdown",
   "metadata": {},
   "source": [
    "## Credentials"
   ]
  },
  {
   "cell_type": "code",
   "execution_count": 3,
   "metadata": {
    "collapsed": true
   },
   "outputs": [],
   "source": [
    "import json\n",
    "\n",
    "with open(\"credentials.json\", \"r\") as file:\n",
    "    credentials = json.load(file)\n",
    "    rescuetime_cr = credentials['habitica']\n",
    "    api_token = rescuetime_cr['APIKEY']\n",
    "    user_id = rescuetime_cr['USERID']"
   ]
  },
  {
   "cell_type": "code",
   "execution_count": 4,
   "metadata": {},
   "outputs": [],
   "source": [
    "# API URL\n",
    "baseurl = \"https://habitica.com/api/v3/\"\n",
    "headers = {\"x-api-user\": user_id, \"x-api-key\": api_token, \"Content-Type\": \"application/json\"}"
   ]
  },
  {
   "cell_type": "markdown",
   "metadata": {},
   "source": [
    "----"
   ]
  },
  {
   "cell_type": "markdown",
   "metadata": {},
   "source": [
    "## User Tags"
   ]
  },
  {
   "cell_type": "code",
   "execution_count": 5,
   "metadata": {},
   "outputs": [],
   "source": [
    "def getTags(baseurl, headers):\n",
    "    req = requests.get(baseurl + \"tags\", headers=headers)\n",
    "    tags = []\n",
    "\n",
    "    for item in req.json()['data']:\n",
    "        tags.append(item)\n",
    "\n",
    "    return tags"
   ]
  },
  {
   "cell_type": "code",
   "execution_count": 6,
   "metadata": {},
   "outputs": [],
   "source": [
    "tags_list = getTags(baseurl, headers)\n",
    "tags = pd.DataFrame(tags_list)"
   ]
  },
  {
   "cell_type": "code",
   "execution_count": 7,
   "metadata": {},
   "outputs": [],
   "source": [
    "tags.to_csv('data/user-tags-' + today + '.csv')"
   ]
  },
  {
   "cell_type": "markdown",
   "metadata": {},
   "source": [
    "----"
   ]
  },
  {
   "cell_type": "markdown",
   "metadata": {},
   "source": [
    "### General Function to Get Habitica Tasks Data"
   ]
  },
  {
   "cell_type": "code",
   "execution_count": 8,
   "metadata": {},
   "outputs": [],
   "source": [
    "def getTasks(baseurl, headers, task_type):\n",
    "    req = requests.get(baseurl + \"tasks/user?type=\" + task_type, headers=headers)\n",
    "    tasks = []\n",
    "\n",
    "    for item in req.json()['data']:\n",
    "        tasks.append(item)\n",
    "\n",
    "    return tasks"
   ]
  },
  {
   "cell_type": "markdown",
   "metadata": {},
   "source": [
    "-----"
   ]
  },
  {
   "cell_type": "markdown",
   "metadata": {},
   "source": [
    "## Dailies Status and History"
   ]
  },
  {
   "cell_type": "code",
   "execution_count": 9,
   "metadata": {},
   "outputs": [],
   "source": [
    "dailys_list = getTasks(baseurl, headers, task_type='dailys')\n",
    "dailys = pd.DataFrame(dailys_list)"
   ]
  },
  {
   "cell_type": "code",
   "execution_count": 10,
   "metadata": {},
   "outputs": [],
   "source": [
    "dailys.to_csv('data/current_dailys-' + today + '.csv')"
   ]
  },
  {
   "cell_type": "code",
   "execution_count": 11,
   "metadata": {},
   "outputs": [],
   "source": [
    "dailies_history = []\n",
    "for i in dailys_list:\n",
    "    dailys_name = i['text']\n",
    "    streak = i['streak']\n",
    "    \n",
    "    for h in i['history']:\n",
    "        dailys_info = {\n",
    "            'dailys_name':     dailys_name,\n",
    "            'current_streak':  streak,\n",
    "            'history_date':    h['date'],\n",
    "            'value':           h['value']\n",
    "        }\n",
    "        dailies_history.append(dailys_info)\n",
    "dailies_history = pd.DataFrame(dailies_history)\n",
    "# dailies_history = pd.concat([dailies_history, dailys], join='outer', axis=1)"
   ]
  },
  {
   "cell_type": "code",
   "execution_count": 12,
   "metadata": {},
   "outputs": [],
   "source": [
    "dailies_history.to_csv('data/dailys_history-' + today + '.csv')"
   ]
  },
  {
   "cell_type": "markdown",
   "metadata": {},
   "source": [
    "-----"
   ]
  },
  {
   "cell_type": "markdown",
   "metadata": {},
   "source": [
    "## Habits"
   ]
  },
  {
   "cell_type": "code",
   "execution_count": 13,
   "metadata": {},
   "outputs": [],
   "source": [
    "habits_list = getTasks(baseurl, headers, task_type='habits')\n",
    "habits = pd.DataFrame(habits_list)"
   ]
  },
  {
   "cell_type": "code",
   "execution_count": 14,
   "metadata": {},
   "outputs": [],
   "source": [
    "habits.to_csv('data/current_habits-' + today + '.csv')"
   ]
  },
  {
   "cell_type": "code",
   "execution_count": 15,
   "metadata": {},
   "outputs": [],
   "source": [
    "habits_history = []\n",
    "for i in habits_list:\n",
    "    habits_name = i['text']\n",
    "    \n",
    "    for h in i['history']:\n",
    "        habits_info = {\n",
    "            'habits_name':     habits_name,\n",
    "            'scoredUp':        h['scoredUp'],\n",
    "            'scoredDown':       h['scoredDown'],\n",
    "            'history_date':    h['date'],\n",
    "            'value':           h['value']\n",
    "        }\n",
    "        habits_history.append(habits_info)\n",
    "habits_history = pd.DataFrame(habits_history)"
   ]
  },
  {
   "cell_type": "code",
   "execution_count": 16,
   "metadata": {},
   "outputs": [],
   "source": [
    "habits_history.to_csv('data/habits_history-' + today + '.csv')"
   ]
  },
  {
   "cell_type": "markdown",
   "metadata": {},
   "source": [
    "-----"
   ]
  },
  {
   "cell_type": "markdown",
   "metadata": {},
   "source": [
    "## Current Todos"
   ]
  },
  {
   "cell_type": "code",
   "execution_count": 17,
   "metadata": {},
   "outputs": [],
   "source": [
    "todos_list = getTasks(baseurl, headers, task_type='todos')\n",
    "todos = pd.DataFrame(todos_list)"
   ]
  },
  {
   "cell_type": "code",
   "execution_count": 18,
   "metadata": {},
   "outputs": [],
   "source": [
    "# todos.head()"
   ]
  },
  {
   "cell_type": "markdown",
   "metadata": {},
   "source": [
    "-----"
   ]
  },
  {
   "cell_type": "markdown",
   "metadata": {},
   "source": [
    "## Completed Todos"
   ]
  },
  {
   "cell_type": "code",
   "execution_count": 19,
   "metadata": {},
   "outputs": [],
   "source": [
    "# get current completed todos\n",
    "completed_todos_list = getTasks(baseurl, headers, task_type='completedTodos')\n",
    "completed_todos = pd.DataFrame(completed_todos_list)"
   ]
  },
  {
   "cell_type": "code",
   "execution_count": 20,
   "metadata": {},
   "outputs": [],
   "source": [
    "# export completed todos with todays date\n",
    "completed_todos.to_csv('data/completed_todos-' + today + '.csv')"
   ]
  },
  {
   "cell_type": "markdown",
   "metadata": {},
   "source": [
    "------"
   ]
  },
  {
   "cell_type": "markdown",
   "metadata": {},
   "source": [
    "## Examining User Data JSON Object"
   ]
  },
  {
   "cell_type": "code",
   "execution_count": 21,
   "metadata": {},
   "outputs": [],
   "source": [
    "# user_file = open('data/habitica-user-data.json')\n",
    "# user_str = user_file.read()\n",
    "# user_data = json.loads(json_str)"
   ]
  },
  {
   "cell_type": "code",
   "execution_count": 22,
   "metadata": {},
   "outputs": [],
   "source": [
    "# user_data['tasks']['todos'][0]"
   ]
  },
  {
   "cell_type": "code",
   "execution_count": 23,
   "metadata": {},
   "outputs": [],
   "source": [
    "# json_data['tasks']['dailys'][10]"
   ]
  },
  {
   "cell_type": "code",
   "execution_count": 24,
   "metadata": {},
   "outputs": [],
   "source": [
    "# json_data['tasks']['habits'][0]"
   ]
  }
 ],
 "metadata": {
  "kernelspec": {
   "display_name": "Python 3",
   "language": "python",
   "name": "python3"
  },
  "language_info": {
   "codemirror_mode": {
    "name": "ipython",
    "version": 3
   },
   "file_extension": ".py",
   "mimetype": "text/x-python",
   "name": "python",
   "nbconvert_exporter": "python",
   "pygments_lexer": "ipython3",
   "version": "3.6.2"
  }
 },
 "nbformat": 4,
 "nbformat_minor": 2
}
