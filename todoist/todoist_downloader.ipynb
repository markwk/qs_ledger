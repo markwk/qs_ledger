{
 "cells": [
  {
   "cell_type": "markdown",
   "metadata": {},
   "source": [
    "# Todoist Completed Tasks Downloader"
   ]
  },
  {
   "cell_type": "markdown",
   "metadata": {},
   "source": [
    "This project will collect and aggregate all of your completed task data from Todoist. \n",
    "\n",
    "For a simple data analysis of your completed tasks, see [todoist_data_analysis.ipynb](https://github.com/markwk/qs_ledger/blob/master/todoist/todoist_data_analysis.ipynb). "
   ]
  },
  {
   "cell_type": "markdown",
   "metadata": {},
   "source": [
    "-------"
   ]
  },
  {
   "cell_type": "markdown",
   "metadata": {},
   "source": [
    "## Installation and Setup\n",
    "\n",
    "#### Download and Install Todoist Python Library\n",
    "\n",
    "`$ pip install todoist-python`\n",
    "\n",
    "#### Signup and Create a Todoist App\n",
    "\n",
    "* Go to https://todoist.com/prefs/integrations and find you `API Token`\n",
    " at the very bottom of the page\n",
    "* Copy sample-credentials.json and create credentials.json\n",
    "* Add and Save your `API Token` to credentials.json\n"
   ]
  },
  {
   "cell_type": "markdown",
   "metadata": {},
   "source": [
    "-----"
   ]
  },
  {
   "cell_type": "markdown",
   "metadata": {},
   "source": [
    "## Dependencies"
   ]
  },
  {
   "cell_type": "code",
   "execution_count": 1,
   "metadata": {},
   "outputs": [],
   "source": [
    "from todoist.api import TodoistAPI\n",
    "import numpy as np, string, re, pytz\n",
    "import pandas as pd\n",
    "from datetime import datetime"
   ]
  },
  {
   "cell_type": "markdown",
   "metadata": {},
   "source": [
    "### Credentials and Authentification"
   ]
  },
  {
   "cell_type": "code",
   "execution_count": 2,
   "metadata": {},
   "outputs": [],
   "source": [
    "import json\n",
    "\n",
    "with open(\"credentials.json\", \"r\") as file:\n",
    "    credentials = json.load(file)\n",
    "    todoist_cr = credentials['todoist']\n",
    "    TOKEN = todoist_cr['TOKEN']"
   ]
  },
  {
   "cell_type": "code",
   "execution_count": 3,
   "metadata": {},
   "outputs": [],
   "source": [
    "api = TodoistAPI(TOKEN)\n",
    "#api.sync() # uncomment to use"
   ]
  },
  {
   "cell_type": "markdown",
   "metadata": {},
   "source": [
    "----------"
   ]
  },
  {
   "cell_type": "markdown",
   "metadata": {},
   "source": [
    "## Check Basic User Info"
   ]
  },
  {
   "cell_type": "code",
   "execution_count": 4,
   "metadata": {},
   "outputs": [],
   "source": [
    "user = api.state['user']"
   ]
  },
  {
   "cell_type": "code",
   "execution_count": 5,
   "metadata": {},
   "outputs": [],
   "source": [
    "# user"
   ]
  },
  {
   "cell_type": "code",
   "execution_count": 6,
   "metadata": {},
   "outputs": [],
   "source": [
    "# user['full_name']"
   ]
  },
  {
   "cell_type": "markdown",
   "metadata": {},
   "source": [
    "-------"
   ]
  },
  {
   "cell_type": "markdown",
   "metadata": {},
   "source": [
    "# List and Export of Current Projects"
   ]
  },
  {
   "cell_type": "markdown",
   "metadata": {},
   "source": [
    "### API Call: api.state['projects']\n",
    "\n",
    "https://developer.todoist.com/sync/v7/#get-all-projects\n",
    "\n",
    "NOTE: This only gets info on your existing projects and exludes archived projects. "
   ]
  },
  {
   "cell_type": "code",
   "execution_count": 7,
   "metadata": {},
   "outputs": [],
   "source": [
    "user_projects  = api.state['projects']"
   ]
  },
  {
   "cell_type": "code",
   "execution_count": 8,
   "metadata": {},
   "outputs": [],
   "source": [
    "# user_projects"
   ]
  },
  {
   "cell_type": "code",
   "execution_count": 9,
   "metadata": {},
   "outputs": [
    {
     "data": {
      "text/plain": [
       "24"
      ]
     },
     "execution_count": 9,
     "metadata": {},
     "output_type": "execute_result"
    }
   ],
   "source": [
    "len(user_projects)"
   ]
  },
  {
   "cell_type": "code",
   "execution_count": 10,
   "metadata": {},
   "outputs": [],
   "source": [
    "with open('data/todoist-projects.csv', 'w') as file:\n",
    "    file.write(\"Id\" + \",\" + \"Project\" + \"\\n\")\n",
    "    for i in range(0, len(user_projects)):\n",
    "        file.write('\\\"' + str(user_projects[i]['id']) + '\\\"' + \",\" + '\\\"' + str(user_projects[i]['name']) + '\\\"' + \"\\n\")"
   ]
  },
  {
   "cell_type": "code",
   "execution_count": 11,
   "metadata": {},
   "outputs": [],
   "source": [
    "projects = pd.read_csv(\"data/todoist-projects.csv\")"
   ]
  },
  {
   "cell_type": "code",
   "execution_count": 12,
   "metadata": {},
   "outputs": [],
   "source": [
    "# projects"
   ]
  },
  {
   "cell_type": "markdown",
   "metadata": {},
   "source": [
    "-----"
   ]
  },
  {
   "cell_type": "markdown",
   "metadata": {},
   "source": [
    "## User Completed Tasks Stats Info"
   ]
  },
  {
   "cell_type": "markdown",
   "metadata": {},
   "source": [
    "API Call: `api.completed.get_stats()` https://developer.todoist.com/sync/v7/#get-productivity-stats"
   ]
  },
  {
   "cell_type": "code",
   "execution_count": 13,
   "metadata": {},
   "outputs": [],
   "source": [
    "stats = api.completed.get_stats()"
   ]
  },
  {
   "cell_type": "code",
   "execution_count": 14,
   "metadata": {},
   "outputs": [
    {
     "data": {
      "text/plain": [
       "5311"
      ]
     },
     "execution_count": 14,
     "metadata": {},
     "output_type": "execute_result"
    }
   ],
   "source": [
    "# total completed tasks from stats\n",
    "user_completed_stats = stats['completed_count']\n",
    "user_completed_stats"
   ]
  },
  {
   "cell_type": "markdown",
   "metadata": {},
   "source": [
    "-------"
   ]
  },
  {
   "cell_type": "markdown",
   "metadata": {},
   "source": [
    "# Collect Raw List of All Completed Items from Todoist"
   ]
  },
  {
   "cell_type": "markdown",
   "metadata": {},
   "source": [
    "### API Call: api.completed.get_all() \n",
    "\n",
    "https://developer.todoist.com/sync/v7/#get-all-completed-items"
   ]
  },
  {
   "cell_type": "code",
   "execution_count": 15,
   "metadata": {},
   "outputs": [],
   "source": [
    "def get_completed_todoist_items():\n",
    "    # create df from initial 50 completed tasks\n",
    "    print(\"Collecting Initial 50 Completed Todoist Tasks...\")\n",
    "    temp_tasks_dict = (api.completed.get_all(limit=50))\n",
    "    past_tasks = pd.DataFrame.from_dict(temp_tasks_dict['items'])\n",
    "    # get the remaining items\n",
    "    pager = list(range(50,user_completed_stats,50))\n",
    "    for count, item in enumerate(pager):\n",
    "        tmp_tasks = (api.completed.get_all(limit=50, offset=item))\n",
    "        tmp_tasks_df = pd.DataFrame.from_dict(tmp_tasks['items'])\n",
    "        past_tasks = pd.concat([past_tasks, tmp_tasks_df], sort=False)\n",
    "        print(\"Collecting Additional Todoist Tasks \" + str(item) + \" of \" + str(user_completed_stats))\n",
    "    # save to CSV\n",
    "    print(\"...Generating CSV Export\")\n",
    "    past_tasks.to_csv(\"data/todost-raw-tasks-completed.csv\", index=False)"
   ]
  },
  {
   "cell_type": "code",
   "execution_count": 16,
   "metadata": {
    "scrolled": true
   },
   "outputs": [
    {
     "name": "stdout",
     "output_type": "stream",
     "text": [
      "Collecting Initial 50 Completed Todoist Tasks...\n",
      "Collecting Additional Todoist Tasks 50 of 5311\n",
      "Collecting Additional Todoist Tasks 100 of 5311\n",
      "Collecting Additional Todoist Tasks 150 of 5311\n",
      "Collecting Additional Todoist Tasks 200 of 5311\n",
      "Collecting Additional Todoist Tasks 250 of 5311\n",
      "Collecting Additional Todoist Tasks 300 of 5311\n",
      "Collecting Additional Todoist Tasks 350 of 5311\n",
      "Collecting Additional Todoist Tasks 400 of 5311\n",
      "Collecting Additional Todoist Tasks 450 of 5311\n",
      "Collecting Additional Todoist Tasks 500 of 5311\n",
      "Collecting Additional Todoist Tasks 550 of 5311\n",
      "Collecting Additional Todoist Tasks 600 of 5311\n",
      "Collecting Additional Todoist Tasks 650 of 5311\n",
      "Collecting Additional Todoist Tasks 700 of 5311\n",
      "Collecting Additional Todoist Tasks 750 of 5311\n",
      "Collecting Additional Todoist Tasks 800 of 5311\n",
      "Collecting Additional Todoist Tasks 850 of 5311\n",
      "Collecting Additional Todoist Tasks 900 of 5311\n",
      "Collecting Additional Todoist Tasks 950 of 5311\n",
      "Collecting Additional Todoist Tasks 1000 of 5311\n",
      "Collecting Additional Todoist Tasks 1050 of 5311\n",
      "Collecting Additional Todoist Tasks 1100 of 5311\n",
      "Collecting Additional Todoist Tasks 1150 of 5311\n",
      "Collecting Additional Todoist Tasks 1200 of 5311\n",
      "Collecting Additional Todoist Tasks 1250 of 5311\n",
      "Collecting Additional Todoist Tasks 1300 of 5311\n",
      "Collecting Additional Todoist Tasks 1350 of 5311\n",
      "Collecting Additional Todoist Tasks 1400 of 5311\n",
      "Collecting Additional Todoist Tasks 1450 of 5311\n",
      "Collecting Additional Todoist Tasks 1500 of 5311\n",
      "Collecting Additional Todoist Tasks 1550 of 5311\n",
      "Collecting Additional Todoist Tasks 1600 of 5311\n",
      "Collecting Additional Todoist Tasks 1650 of 5311\n",
      "Collecting Additional Todoist Tasks 1700 of 5311\n",
      "Collecting Additional Todoist Tasks 1750 of 5311\n",
      "Collecting Additional Todoist Tasks 1800 of 5311\n",
      "Collecting Additional Todoist Tasks 1850 of 5311\n",
      "Collecting Additional Todoist Tasks 1900 of 5311\n",
      "Collecting Additional Todoist Tasks 1950 of 5311\n",
      "Collecting Additional Todoist Tasks 2000 of 5311\n",
      "Collecting Additional Todoist Tasks 2050 of 5311\n",
      "Collecting Additional Todoist Tasks 2100 of 5311\n",
      "Collecting Additional Todoist Tasks 2150 of 5311\n",
      "Collecting Additional Todoist Tasks 2200 of 5311\n",
      "Collecting Additional Todoist Tasks 2250 of 5311\n",
      "Collecting Additional Todoist Tasks 2300 of 5311\n",
      "Collecting Additional Todoist Tasks 2350 of 5311\n",
      "Collecting Additional Todoist Tasks 2400 of 5311\n",
      "Collecting Additional Todoist Tasks 2450 of 5311\n",
      "Collecting Additional Todoist Tasks 2500 of 5311\n",
      "Collecting Additional Todoist Tasks 2550 of 5311\n",
      "Collecting Additional Todoist Tasks 2600 of 5311\n",
      "Collecting Additional Todoist Tasks 2650 of 5311\n",
      "Collecting Additional Todoist Tasks 2700 of 5311\n",
      "Collecting Additional Todoist Tasks 2750 of 5311\n",
      "Collecting Additional Todoist Tasks 2800 of 5311\n",
      "Collecting Additional Todoist Tasks 2850 of 5311\n",
      "Collecting Additional Todoist Tasks 2900 of 5311\n",
      "Collecting Additional Todoist Tasks 2950 of 5311\n",
      "Collecting Additional Todoist Tasks 3000 of 5311\n",
      "Collecting Additional Todoist Tasks 3050 of 5311\n",
      "Collecting Additional Todoist Tasks 3100 of 5311\n",
      "Collecting Additional Todoist Tasks 3150 of 5311\n",
      "Collecting Additional Todoist Tasks 3200 of 5311\n",
      "Collecting Additional Todoist Tasks 3250 of 5311\n",
      "Collecting Additional Todoist Tasks 3300 of 5311\n",
      "Collecting Additional Todoist Tasks 3350 of 5311\n",
      "Collecting Additional Todoist Tasks 3400 of 5311\n",
      "Collecting Additional Todoist Tasks 3450 of 5311\n",
      "Collecting Additional Todoist Tasks 3500 of 5311\n",
      "Collecting Additional Todoist Tasks 3550 of 5311\n",
      "Collecting Additional Todoist Tasks 3600 of 5311\n",
      "Collecting Additional Todoist Tasks 3650 of 5311\n",
      "Collecting Additional Todoist Tasks 3700 of 5311\n",
      "Collecting Additional Todoist Tasks 3750 of 5311\n",
      "Collecting Additional Todoist Tasks 3800 of 5311\n",
      "Collecting Additional Todoist Tasks 3850 of 5311\n",
      "Collecting Additional Todoist Tasks 3900 of 5311\n",
      "Collecting Additional Todoist Tasks 3950 of 5311\n",
      "Collecting Additional Todoist Tasks 4000 of 5311\n",
      "Collecting Additional Todoist Tasks 4050 of 5311\n",
      "Collecting Additional Todoist Tasks 4100 of 5311\n",
      "Collecting Additional Todoist Tasks 4150 of 5311\n",
      "Collecting Additional Todoist Tasks 4200 of 5311\n",
      "Collecting Additional Todoist Tasks 4250 of 5311\n",
      "Collecting Additional Todoist Tasks 4300 of 5311\n",
      "Collecting Additional Todoist Tasks 4350 of 5311\n",
      "Collecting Additional Todoist Tasks 4400 of 5311\n",
      "Collecting Additional Todoist Tasks 4450 of 5311\n",
      "Collecting Additional Todoist Tasks 4500 of 5311\n",
      "Collecting Additional Todoist Tasks 4550 of 5311\n",
      "Collecting Additional Todoist Tasks 4600 of 5311\n",
      "Collecting Additional Todoist Tasks 4650 of 5311\n",
      "Collecting Additional Todoist Tasks 4700 of 5311\n",
      "Collecting Additional Todoist Tasks 4750 of 5311\n",
      "Collecting Additional Todoist Tasks 4800 of 5311\n",
      "Collecting Additional Todoist Tasks 4850 of 5311\n",
      "Collecting Additional Todoist Tasks 4900 of 5311\n",
      "Collecting Additional Todoist Tasks 4950 of 5311\n",
      "Collecting Additional Todoist Tasks 5000 of 5311\n",
      "Collecting Additional Todoist Tasks 5050 of 5311\n",
      "Collecting Additional Todoist Tasks 5100 of 5311\n",
      "Collecting Additional Todoist Tasks 5150 of 5311\n",
      "Collecting Additional Todoist Tasks 5200 of 5311\n",
      "Collecting Additional Todoist Tasks 5250 of 5311\n",
      "Collecting Additional Todoist Tasks 5300 of 5311\n",
      "...Generating CSV Export\n"
     ]
    }
   ],
   "source": [
    "get_completed_todoist_items()"
   ]
  },
  {
   "cell_type": "code",
   "execution_count": 17,
   "metadata": {},
   "outputs": [],
   "source": [
    "past_tasks = pd.read_csv(\"data/todost-raw-tasks-completed.csv\")"
   ]
  },
  {
   "cell_type": "code",
   "execution_count": 18,
   "metadata": {},
   "outputs": [],
   "source": [
    "# past_tasks.head()"
   ]
  },
  {
   "cell_type": "code",
   "execution_count": 19,
   "metadata": {},
   "outputs": [
    {
     "data": {
      "text/plain": [
       "5342"
      ]
     },
     "execution_count": 19,
     "metadata": {},
     "output_type": "execute_result"
    }
   ],
   "source": [
    "# generated count \n",
    "collected_total = len(past_tasks)\n",
    "collected_total"
   ]
  },
  {
   "cell_type": "code",
   "execution_count": 20,
   "metadata": {},
   "outputs": [
    {
     "data": {
      "text/plain": [
       "5342"
      ]
     },
     "execution_count": 20,
     "metadata": {},
     "output_type": "execute_result"
    }
   ],
   "source": [
    "len(past_tasks.drop_duplicates())"
   ]
  },
  {
   "cell_type": "code",
   "execution_count": 21,
   "metadata": {},
   "outputs": [],
   "source": [
    "past_tasks['project_id'] = past_tasks.project_id.astype('category')"
   ]
  },
  {
   "cell_type": "code",
   "execution_count": 22,
   "metadata": {},
   "outputs": [
    {
     "name": "stdout",
     "output_type": "stream",
     "text": [
      "<class 'pandas.core.frame.DataFrame'>\n",
      "RangeIndex: 5342 entries, 0 to 5341\n",
      "Data columns (total 10 columns):\n",
      "content              5340 non-null object\n",
      "meta_data            0 non-null float64\n",
      "user_id              5342 non-null int64\n",
      "task_id              5342 non-null int64\n",
      "project_id           5342 non-null category\n",
      "completed_date       5342 non-null object\n",
      "id                   5342 non-null int64\n",
      "legacy_project_id    5032 non-null float64\n",
      "legacy_task_id       1904 non-null float64\n",
      "legacy_id            1728 non-null float64\n",
      "dtypes: category(1), float64(4), int64(3), object(2)\n",
      "memory usage: 382.6+ KB\n"
     ]
    }
   ],
   "source": [
    "past_tasks.info()"
   ]
  },
  {
   "cell_type": "code",
   "execution_count": 23,
   "metadata": {},
   "outputs": [
    {
     "data": {
      "text/plain": [
       "45"
      ]
     },
     "execution_count": 23,
     "metadata": {},
     "output_type": "execute_result"
    }
   ],
   "source": [
    "len(past_tasks.project_id.unique())"
   ]
  },
  {
   "cell_type": "markdown",
   "metadata": {},
   "source": [
    "---------"
   ]
  },
  {
   "cell_type": "markdown",
   "metadata": {},
   "source": [
    "## Get All Current and Previous Projects"
   ]
  },
  {
   "cell_type": "code",
   "execution_count": 24,
   "metadata": {},
   "outputs": [],
   "source": [
    "# Extract all project ids used on tasks\n",
    "project_ids = past_tasks.project_id.unique()\n",
    "# project_ids"
   ]
  },
  {
   "cell_type": "code",
   "execution_count": 25,
   "metadata": {},
   "outputs": [
    {
     "data": {
      "text/plain": [
       "45"
      ]
     },
     "execution_count": 25,
     "metadata": {},
     "output_type": "execute_result"
    }
   ],
   "source": [
    "# total all-time projects\n",
    "len(project_ids)"
   ]
  },
  {
   "cell_type": "code",
   "execution_count": 26,
   "metadata": {},
   "outputs": [],
   "source": [
    "# get project info from Todoist API\n",
    "def get_todoist_project_name(project_id):\n",
    "    item = api.projects.get_by_id(project_id)\n",
    "    if item: \n",
    "        try:\n",
    "            return item['name']\n",
    "        except:\n",
    "            return item['project']['name']"
   ]
  },
  {
   "cell_type": "code",
   "execution_count": 27,
   "metadata": {},
   "outputs": [],
   "source": [
    "# Testing with a Sample Archived Project\n",
    "# get_todoist_project_name(183682060)"
   ]
  },
  {
   "cell_type": "code",
   "execution_count": 28,
   "metadata": {},
   "outputs": [],
   "source": [
    "# Testing with a Sample Current Project\n",
    "# get_todoist_project_name(1252539618)"
   ]
  },
  {
   "cell_type": "code",
   "execution_count": 29,
   "metadata": {},
   "outputs": [],
   "source": [
    "# Get Info on All User Projects\n",
    "project_names = []\n",
    "for i in project_ids:\n",
    "    project_names.append(get_todoist_project_name(i))"
   ]
  },
  {
   "cell_type": "code",
   "execution_count": 30,
   "metadata": {
    "scrolled": true
   },
   "outputs": [],
   "source": [
    "# project_names"
   ]
  },
  {
   "cell_type": "markdown",
   "metadata": {},
   "source": [
    "-----"
   ]
  },
  {
   "cell_type": "markdown",
   "metadata": {},
   "source": [
    "## Match Project Id Name on Completed Tasks, Add Day of Week"
   ]
  },
  {
   "cell_type": "code",
   "execution_count": 31,
   "metadata": {},
   "outputs": [],
   "source": [
    "# past_tasks.tail()"
   ]
  },
  {
   "cell_type": "code",
   "execution_count": 32,
   "metadata": {},
   "outputs": [],
   "source": [
    "# Probably a more effecient way to do this\n",
    "project_lookup = lambda x: get_todoist_project_name(x)"
   ]
  },
  {
   "cell_type": "code",
   "execution_count": 33,
   "metadata": {},
   "outputs": [],
   "source": [
    "past_tasks['project_name'] = past_tasks['project_id'].apply(project_lookup) # note: not very efficient"
   ]
  },
  {
   "cell_type": "code",
   "execution_count": 34,
   "metadata": {},
   "outputs": [
    {
     "data": {
      "text/plain": [
       "36"
      ]
     },
     "execution_count": 34,
     "metadata": {},
     "output_type": "execute_result"
    }
   ],
   "source": [
    "len(past_tasks.project_name.unique())"
   ]
  },
  {
   "cell_type": "code",
   "execution_count": 35,
   "metadata": {},
   "outputs": [],
   "source": [
    "# functions to convert UTC to Shanghai time zone and extract date/time elements\n",
    "convert_tz = lambda x: x.to_pydatetime().replace(tzinfo=pytz.utc).astimezone(pytz.timezone('Asia/Shanghai'))\n",
    "get_year = lambda x: convert_tz(x).year\n",
    "get_month = lambda x: '{}-{:02}'.format(convert_tz(x).year, convert_tz(x).month) #inefficient\n",
    "get_date = lambda x: '{}-{:02}-{:02}'.format(convert_tz(x).year, convert_tz(x).month, convert_tz(x).day) #inefficient\n",
    "get_day = lambda x: convert_tz(x).day\n",
    "get_hour = lambda x: convert_tz(x).hour\n",
    "get_day_of_week = lambda x: convert_tz(x).weekday()"
   ]
  },
  {
   "cell_type": "code",
   "execution_count": 36,
   "metadata": {},
   "outputs": [],
   "source": [
    "# parse out date and time elements as Shanghai time\n",
    "past_tasks['completed_date'] = pd.to_datetime(past_tasks['completed_date'])\n",
    "past_tasks['year'] = past_tasks['completed_date'].map(get_year)\n",
    "past_tasks['month'] = past_tasks['completed_date'].map(get_month)\n",
    "past_tasks['date'] = past_tasks['completed_date'].map(get_date)\n",
    "past_tasks['day'] = past_tasks['completed_date'].map(get_day)\n",
    "past_tasks['hour'] = past_tasks['completed_date'].map(get_hour)\n",
    "past_tasks['dow'] = past_tasks['completed_date'].map(get_day_of_week)\n",
    "past_tasks = past_tasks.drop(labels=['completed_date'], axis=1)"
   ]
  },
  {
   "cell_type": "code",
   "execution_count": 37,
   "metadata": {},
   "outputs": [],
   "source": [
    "# past_tasks.head()"
   ]
  },
  {
   "cell_type": "code",
   "execution_count": 38,
   "metadata": {},
   "outputs": [],
   "source": [
    "# save to CSV\n",
    "past_tasks.to_csv(\"data/todost-tasks-completed.csv\", index=False)"
   ]
  },
  {
   "cell_type": "code",
   "execution_count": null,
   "metadata": {},
   "outputs": [],
   "source": []
  }
 ],
 "metadata": {
  "kernelspec": {
   "display_name": "todoist",
   "language": "python",
   "name": "todoist"
  },
  "language_info": {
   "codemirror_mode": {
    "name": "ipython",
    "version": 3
   },
   "file_extension": ".py",
   "mimetype": "text/x-python",
   "name": "python",
   "nbconvert_exporter": "python",
   "pygments_lexer": "ipython3",
   "version": "3.7.4"
  }
 },
 "nbformat": 4,
 "nbformat_minor": 2
}
